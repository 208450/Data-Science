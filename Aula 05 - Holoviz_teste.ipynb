{
 "cells": [
  {
   "cell_type": "markdown",
   "id": "cabed344",
   "metadata": {},
   "source": [
    "![Insper](https://github.com/danielscarvalho/Insper-DS-Dicas/blob/master/Insper-Logo.png?raw=true)\n",
    "\n",
    "# Insper Pós-Graduação\n",
    "## Programa Avançado em Data Science e Decisão [»](https://www.insper.edu.br/pos-graduacao/programas-avancados/data-science-e-decisao/)"
   ]
  },
  {
   "cell_type": "markdown",
   "id": "tough-respect",
   "metadata": {},
   "source": [
    "# Aula 05 - Visualização de dados com Holoviz\n",
    "\n",
    "\n",
    "O HoloViz é uma ferramentas de alto nível para simplificar a visualização em Python.\n",
    "O HoloViz é um esforço coordenado para tornar a visualização de dados baseada em navegador em Python mais fácil de usar, mais fácil de aprender e mais poderosa. [>>](https://holoviz.org/) \n",
    "\n",
    "Instalação:"
   ]
  },
  {
   "cell_type": "code",
   "execution_count": 1,
   "id": "e19802a1",
   "metadata": {
    "scrolled": true
   },
   "outputs": [
    {
     "name": "stdout",
     "output_type": "stream",
     "text": [
      "No manual entry for pip3\r\n"
     ]
    }
   ],
   "source": [
    "!man pip3"
   ]
  },
  {
   "cell_type": "markdown",
   "id": "cbc7e817",
   "metadata": {},
   "source": [
    "No ambiente Windows talvez seja necessários reiniciar o kernel..."
   ]
  },
  {
   "cell_type": "code",
   "execution_count": null,
   "id": "8bdc3625",
   "metadata": {},
   "outputs": [],
   "source": [
    "#TESTAR COM --user\n",
    "ERROR: panel 0.12.1 has requirement bokeh<2.4.0,>=2.3.0, but you'll have bokeh 2.0.2 which is incompatible.\n",
    "ERROR: datashader 0.11.1 has requirement pyct[cmd]==0.4.6, but you'll have pyct 0.4.8 which is incompatible.\n",
    "ERROR: Could not install packages due to an EnvironmentError: [WinError 5] Access is denied: 'c:\\\\users\\\\carel\\\\anaconda3\\\\lib\\\\site-packages\\\\~umpy\\\\core\\\\_multiarray_tests.cp37-win_amd64.pyd'\n",
    "Consider using the `--user` option or check the permissions."
   ]
  },
  {
   "cell_type": "code",
   "execution_count": 2,
   "id": "broad-football",
   "metadata": {},
   "outputs": [
    {
     "name": "stdout",
     "output_type": "stream",
     "text": [
      "\u001b[31mERROR: Could not find a version that satisfies the requirement holoviz (from versions: 0.1.0, 0.1.1, 0.1.2, 0.11.0, 0.11.1, 0.11.2, 0.11.3, 0.11.4, 0.11.5, 0.11.6)\u001b[0m\u001b[31m\r\n",
      "\u001b[0m\u001b[31mERROR: No matching distribution found for holoviz\u001b[0m\u001b[31m\r\n",
      "\u001b[0m"
     ]
    }
   ],
   "source": [
    "!pip install -U holoviz"
   ]
  },
  {
   "cell_type": "code",
   "execution_count": 10,
   "id": "3f3d9efa",
   "metadata": {},
   "outputs": [
    {
     "name": "stdout",
     "output_type": "stream",
     "text": [
      "Requirement already satisfied: hvplot in /home/suelanegf/anaconda3/lib/python3.9/site-packages (0.8.0)\n",
      "Requirement already satisfied: bokeh>=1.0.0 in /home/suelanegf/anaconda3/lib/python3.9/site-packages (from hvplot) (2.4.3)\n",
      "Requirement already satisfied: pandas in /home/suelanegf/anaconda3/lib/python3.9/site-packages (from hvplot) (1.4.4)\n",
      "Requirement already satisfied: colorcet>=2 in /home/suelanegf/anaconda3/lib/python3.9/site-packages (from hvplot) (3.0.0)\n",
      "Requirement already satisfied: holoviews>=1.11.0 in /home/suelanegf/anaconda3/lib/python3.9/site-packages (from hvplot) (1.15.0)\n",
      "Requirement already satisfied: packaging in /home/suelanegf/anaconda3/lib/python3.9/site-packages (from hvplot) (21.3)\n",
      "Requirement already satisfied: numpy>=1.15 in /home/suelanegf/anaconda3/lib/python3.9/site-packages (from hvplot) (1.21.5)\n",
      "Requirement already satisfied: PyYAML>=3.10 in /home/suelanegf/anaconda3/lib/python3.9/site-packages (from bokeh>=1.0.0->hvplot) (6.0)\n",
      "Requirement already satisfied: tornado>=5.1 in /home/suelanegf/anaconda3/lib/python3.9/site-packages (from bokeh>=1.0.0->hvplot) (6.1)\n",
      "Requirement already satisfied: typing-extensions>=3.10.0 in /home/suelanegf/anaconda3/lib/python3.9/site-packages (from bokeh>=1.0.0->hvplot) (4.3.0)\n",
      "Requirement already satisfied: pillow>=7.1.0 in /home/suelanegf/anaconda3/lib/python3.9/site-packages (from bokeh>=1.0.0->hvplot) (9.2.0)\n",
      "Requirement already satisfied: Jinja2>=2.9 in /home/suelanegf/anaconda3/lib/python3.9/site-packages (from bokeh>=1.0.0->hvplot) (3.1.2)\n",
      "Requirement already satisfied: param>=1.7.0 in /home/suelanegf/anaconda3/lib/python3.9/site-packages (from colorcet>=2->hvplot) (1.12.0)\n",
      "Requirement already satisfied: pyct>=0.4.4 in /home/suelanegf/anaconda3/lib/python3.9/site-packages (from colorcet>=2->hvplot) (0.4.8)\n",
      "Requirement already satisfied: panel>=0.13.1 in /home/suelanegf/anaconda3/lib/python3.9/site-packages (from holoviews>=1.11.0->hvplot) (0.13.1)\n",
      "Requirement already satisfied: pyviz-comms>=0.7.4 in /home/suelanegf/anaconda3/lib/python3.9/site-packages (from holoviews>=1.11.0->hvplot) (2.0.2)\n",
      "Requirement already satisfied: pyparsing!=3.0.5,>=2.0.2 in /home/suelanegf/anaconda3/lib/python3.9/site-packages (from packaging->hvplot) (3.0.9)\n",
      "Requirement already satisfied: python-dateutil>=2.8.1 in /home/suelanegf/anaconda3/lib/python3.9/site-packages (from pandas->hvplot) (2.8.2)\n",
      "Requirement already satisfied: pytz>=2020.1 in /home/suelanegf/anaconda3/lib/python3.9/site-packages (from pandas->hvplot) (2022.1)\n",
      "Requirement already satisfied: MarkupSafe>=2.0 in /home/suelanegf/anaconda3/lib/python3.9/site-packages (from Jinja2>=2.9->bokeh>=1.0.0->hvplot) (2.0.1)\n",
      "Requirement already satisfied: setuptools in /home/suelanegf/anaconda3/lib/python3.9/site-packages (from panel>=0.13.1->holoviews>=1.11.0->hvplot) (63.4.1)\n",
      "Requirement already satisfied: markdown in /home/suelanegf/anaconda3/lib/python3.9/site-packages (from panel>=0.13.1->holoviews>=1.11.0->hvplot) (3.3.4)\n",
      "Requirement already satisfied: bleach in /home/suelanegf/anaconda3/lib/python3.9/site-packages (from panel>=0.13.1->holoviews>=1.11.0->hvplot) (4.1.0)\n",
      "Requirement already satisfied: tqdm>=4.48.0 in /home/suelanegf/anaconda3/lib/python3.9/site-packages (from panel>=0.13.1->holoviews>=1.11.0->hvplot) (4.64.1)\n",
      "Requirement already satisfied: requests in /home/suelanegf/anaconda3/lib/python3.9/site-packages (from panel>=0.13.1->holoviews>=1.11.0->hvplot) (2.28.1)\n",
      "Requirement already satisfied: six>=1.5 in /home/suelanegf/anaconda3/lib/python3.9/site-packages (from python-dateutil>=2.8.1->pandas->hvplot) (1.16.0)\n",
      "Requirement already satisfied: webencodings in /home/suelanegf/anaconda3/lib/python3.9/site-packages (from bleach->panel>=0.13.1->holoviews>=1.11.0->hvplot) (0.5.1)\n",
      "Requirement already satisfied: idna<4,>=2.5 in /home/suelanegf/anaconda3/lib/python3.9/site-packages (from requests->panel>=0.13.1->holoviews>=1.11.0->hvplot) (3.3)\n",
      "Requirement already satisfied: charset-normalizer<3,>=2 in /home/suelanegf/anaconda3/lib/python3.9/site-packages (from requests->panel>=0.13.1->holoviews>=1.11.0->hvplot) (2.0.4)\n",
      "Requirement already satisfied: certifi>=2017.4.17 in /home/suelanegf/anaconda3/lib/python3.9/site-packages (from requests->panel>=0.13.1->holoviews>=1.11.0->hvplot) (2022.9.14)\n",
      "Requirement already satisfied: urllib3<1.27,>=1.21.1 in /home/suelanegf/anaconda3/lib/python3.9/site-packages (from requests->panel>=0.13.1->holoviews>=1.11.0->hvplot) (1.26.11)\n"
     ]
    }
   ],
   "source": [
    "!pip install hvplot"
   ]
  },
  {
   "cell_type": "markdown",
   "id": "lesser-zealand",
   "metadata": {},
   "source": [
    "# importações e dataset utilizado\n"
   ]
  },
  {
   "cell_type": "code",
   "execution_count": 11,
   "id": "genuine-increase",
   "metadata": {},
   "outputs": [],
   "source": [
    "import altair as alt\n",
    "from vega_datasets import data\n",
    "\n",
    "import hvplot.pandas \n",
    "import holoviews as hv\n",
    "\n",
    "cars = data.cars()"
   ]
  },
  {
   "cell_type": "code",
   "execution_count": 12,
   "id": "informational-yeast",
   "metadata": {
    "scrolled": true
   },
   "outputs": [
    {
     "data": {
      "text/html": [
       "<div>\n",
       "<style scoped>\n",
       "    .dataframe tbody tr th:only-of-type {\n",
       "        vertical-align: middle;\n",
       "    }\n",
       "\n",
       "    .dataframe tbody tr th {\n",
       "        vertical-align: top;\n",
       "    }\n",
       "\n",
       "    .dataframe thead th {\n",
       "        text-align: right;\n",
       "    }\n",
       "</style>\n",
       "<table border=\"1\" class=\"dataframe\">\n",
       "  <thead>\n",
       "    <tr style=\"text-align: right;\">\n",
       "      <th></th>\n",
       "      <th>Name</th>\n",
       "      <th>Miles_per_Gallon</th>\n",
       "      <th>Cylinders</th>\n",
       "      <th>Displacement</th>\n",
       "      <th>Horsepower</th>\n",
       "      <th>Weight_in_lbs</th>\n",
       "      <th>Acceleration</th>\n",
       "      <th>Year</th>\n",
       "      <th>Origin</th>\n",
       "    </tr>\n",
       "  </thead>\n",
       "  <tbody>\n",
       "    <tr>\n",
       "      <th>0</th>\n",
       "      <td>chevrolet chevelle malibu</td>\n",
       "      <td>18.0</td>\n",
       "      <td>8</td>\n",
       "      <td>307.0</td>\n",
       "      <td>130.0</td>\n",
       "      <td>3504</td>\n",
       "      <td>12.0</td>\n",
       "      <td>1970-01-01</td>\n",
       "      <td>USA</td>\n",
       "    </tr>\n",
       "    <tr>\n",
       "      <th>1</th>\n",
       "      <td>buick skylark 320</td>\n",
       "      <td>15.0</td>\n",
       "      <td>8</td>\n",
       "      <td>350.0</td>\n",
       "      <td>165.0</td>\n",
       "      <td>3693</td>\n",
       "      <td>11.5</td>\n",
       "      <td>1970-01-01</td>\n",
       "      <td>USA</td>\n",
       "    </tr>\n",
       "    <tr>\n",
       "      <th>2</th>\n",
       "      <td>plymouth satellite</td>\n",
       "      <td>18.0</td>\n",
       "      <td>8</td>\n",
       "      <td>318.0</td>\n",
       "      <td>150.0</td>\n",
       "      <td>3436</td>\n",
       "      <td>11.0</td>\n",
       "      <td>1970-01-01</td>\n",
       "      <td>USA</td>\n",
       "    </tr>\n",
       "    <tr>\n",
       "      <th>3</th>\n",
       "      <td>amc rebel sst</td>\n",
       "      <td>16.0</td>\n",
       "      <td>8</td>\n",
       "      <td>304.0</td>\n",
       "      <td>150.0</td>\n",
       "      <td>3433</td>\n",
       "      <td>12.0</td>\n",
       "      <td>1970-01-01</td>\n",
       "      <td>USA</td>\n",
       "    </tr>\n",
       "    <tr>\n",
       "      <th>4</th>\n",
       "      <td>ford torino</td>\n",
       "      <td>17.0</td>\n",
       "      <td>8</td>\n",
       "      <td>302.0</td>\n",
       "      <td>140.0</td>\n",
       "      <td>3449</td>\n",
       "      <td>10.5</td>\n",
       "      <td>1970-01-01</td>\n",
       "      <td>USA</td>\n",
       "    </tr>\n",
       "  </tbody>\n",
       "</table>\n",
       "</div>"
      ],
      "text/plain": [
       "                        Name  Miles_per_Gallon  Cylinders  Displacement  \\\n",
       "0  chevrolet chevelle malibu              18.0          8         307.0   \n",
       "1          buick skylark 320              15.0          8         350.0   \n",
       "2         plymouth satellite              18.0          8         318.0   \n",
       "3              amc rebel sst              16.0          8         304.0   \n",
       "4                ford torino              17.0          8         302.0   \n",
       "\n",
       "   Horsepower  Weight_in_lbs  Acceleration       Year Origin  \n",
       "0       130.0           3504          12.0 1970-01-01    USA  \n",
       "1       165.0           3693          11.5 1970-01-01    USA  \n",
       "2       150.0           3436          11.0 1970-01-01    USA  \n",
       "3       150.0           3433          12.0 1970-01-01    USA  \n",
       "4       140.0           3449          10.5 1970-01-01    USA  "
      ]
     },
     "execution_count": 12,
     "metadata": {},
     "output_type": "execute_result"
    }
   ],
   "source": [
    "#lista os dados\n",
    "cars.head()"
   ]
  },
  {
   "cell_type": "code",
   "execution_count": 13,
   "id": "d1887245",
   "metadata": {},
   "outputs": [
    {
     "data": {
      "text/plain": [
       "(406, 9)"
      ]
     },
     "execution_count": 13,
     "metadata": {},
     "output_type": "execute_result"
    }
   ],
   "source": [
    "cars.shape"
   ]
  },
  {
   "cell_type": "code",
   "execution_count": 14,
   "id": "405c8ad7",
   "metadata": {},
   "outputs": [
    {
     "data": {
      "text/plain": [
       "pandas.core.frame.DataFrame"
      ]
     },
     "execution_count": 14,
     "metadata": {},
     "output_type": "execute_result"
    }
   ],
   "source": [
    "type(cars)"
   ]
  },
  {
   "cell_type": "markdown",
   "id": "alpine-baptist",
   "metadata": {},
   "source": [
    "# Gráfico de Dispersão"
   ]
  },
  {
   "cell_type": "code",
   "execution_count": 17,
   "id": "infrared-bottom",
   "metadata": {},
   "outputs": [
    {
     "data": {},
     "metadata": {},
     "output_type": "display_data"
    },
    {
     "data": {
      "application/vnd.holoviews_exec.v0+json": "",
      "text/html": [
       "<div id='1254'>\n",
       "  <div class=\"bk-root\" id=\"42e7c8dc-3809-44fa-b584-d6466e4aff42\" data-root-id=\"1254\"></div>\n",
       "</div>\n",
       "<script type=\"application/javascript\">(function(root) {\n",
       "  function embed_document(root) {\n",
       "    var docs_json = {\"6db19493-bef4-4ef3-b231-d94f80ec75a5\":{\"defs\":[{\"extends\":null,\"module\":null,\"name\":\"ReactiveHTML1\",\"overrides\":[],\"properties\":[]},{\"extends\":null,\"module\":null,\"name\":\"FlexBox1\",\"overrides\":[],\"properties\":[{\"default\":\"flex-start\",\"kind\":null,\"name\":\"align_content\"},{\"default\":\"flex-start\",\"kind\":null,\"name\":\"align_items\"},{\"default\":\"row\",\"kind\":null,\"name\":\"flex_direction\"},{\"default\":\"wrap\",\"kind\":null,\"name\":\"flex_wrap\"},{\"default\":\"flex-start\",\"kind\":null,\"name\":\"justify_content\"}]},{\"extends\":null,\"module\":null,\"name\":\"GridStack1\",\"overrides\":[],\"properties\":[{\"default\":\"warn\",\"kind\":null,\"name\":\"mode\"},{\"default\":null,\"kind\":null,\"name\":\"ncols\"},{\"default\":null,\"kind\":null,\"name\":\"nrows\"},{\"default\":true,\"kind\":null,\"name\":\"allow_resize\"},{\"default\":true,\"kind\":null,\"name\":\"allow_drag\"},{\"default\":[],\"kind\":null,\"name\":\"state\"}]},{\"extends\":null,\"module\":null,\"name\":\"click1\",\"overrides\":[],\"properties\":[{\"default\":\"\",\"kind\":null,\"name\":\"terminal_output\"},{\"default\":\"\",\"kind\":null,\"name\":\"debug_name\"},{\"default\":0,\"kind\":null,\"name\":\"clears\"}]},{\"extends\":null,\"module\":null,\"name\":\"NotificationAreaBase1\",\"overrides\":[],\"properties\":[{\"default\":\"bottom-right\",\"kind\":null,\"name\":\"position\"},{\"default\":0,\"kind\":null,\"name\":\"_clear\"}]},{\"extends\":null,\"module\":null,\"name\":\"NotificationArea1\",\"overrides\":[],\"properties\":[{\"default\":[],\"kind\":null,\"name\":\"notifications\"},{\"default\":\"bottom-right\",\"kind\":null,\"name\":\"position\"},{\"default\":0,\"kind\":null,\"name\":\"_clear\"},{\"default\":[{\"background\":\"#ffc107\",\"icon\":{\"className\":\"fas fa-exclamation-triangle\",\"color\":\"white\",\"tagName\":\"i\"},\"type\":\"warning\"},{\"background\":\"#007bff\",\"icon\":{\"className\":\"fas fa-info-circle\",\"color\":\"white\",\"tagName\":\"i\"},\"type\":\"info\"}],\"kind\":null,\"name\":\"types\"}]},{\"extends\":null,\"module\":null,\"name\":\"Notification\",\"overrides\":[],\"properties\":[{\"default\":null,\"kind\":null,\"name\":\"background\"},{\"default\":3000,\"kind\":null,\"name\":\"duration\"},{\"default\":null,\"kind\":null,\"name\":\"icon\"},{\"default\":\"\",\"kind\":null,\"name\":\"message\"},{\"default\":null,\"kind\":null,\"name\":\"notification_type\"},{\"default\":false,\"kind\":null,\"name\":\"_destroyed\"}]},{\"extends\":null,\"module\":null,\"name\":\"TemplateActions1\",\"overrides\":[],\"properties\":[{\"default\":0,\"kind\":null,\"name\":\"open_modal\"},{\"default\":0,\"kind\":null,\"name\":\"close_modal\"}]},{\"extends\":null,\"module\":null,\"name\":\"MaterialTemplateActions1\",\"overrides\":[],\"properties\":[{\"default\":0,\"kind\":null,\"name\":\"open_modal\"},{\"default\":0,\"kind\":null,\"name\":\"close_modal\"}]}],\"roots\":{\"references\":[{\"attributes\":{\"overlay\":{\"id\":\"1281\"}},\"id\":\"1279\",\"type\":\"BoxZoomTool\"},{\"attributes\":{},\"id\":\"1306\",\"type\":\"AllLabels\"},{\"attributes\":{\"coordinates\":null,\"group\":null,\"text_color\":\"black\",\"text_font_size\":\"12pt\"},\"id\":\"1260\",\"type\":\"Title\"},{\"attributes\":{},\"id\":\"1280\",\"type\":\"ResetTool\"},{\"attributes\":{\"bottom_units\":\"screen\",\"coordinates\":null,\"fill_alpha\":0.5,\"fill_color\":\"lightgrey\",\"group\":null,\"left_units\":\"screen\",\"level\":\"overlay\",\"line_alpha\":1.0,\"line_color\":\"black\",\"line_dash\":[4,4],\"line_width\":2,\"right_units\":\"screen\",\"syncable\":false,\"top_units\":\"screen\"},\"id\":\"1281\",\"type\":\"BoxAnnotation\"},{\"attributes\":{\"callback\":null,\"renderers\":[{\"id\":\"1298\"}],\"tags\":[\"hv_created\"],\"tooltips\":[[\"Horsepower\",\"@{Horsepower}\"],[\"Miles_per_Gallon\",\"@{Miles_per_Gallon}\"],[\"Origin\",\"@{Origin}\"]]},\"id\":\"1258\",\"type\":\"HoverTool\"},{\"attributes\":{\"fill_alpha\":{\"value\":0.1},\"fill_color\":{\"field\":\"color\",\"transform\":{\"id\":\"1289\"}},\"hatch_alpha\":{\"value\":0.1},\"hatch_color\":{\"field\":\"color\",\"transform\":{\"id\":\"1289\"}},\"line_alpha\":{\"value\":0.1},\"line_color\":{\"field\":\"color\",\"transform\":{\"id\":\"1289\"}},\"size\":{\"value\":5.477225575051661},\"x\":{\"field\":\"Horsepower\"},\"y\":{\"field\":\"Miles_per_Gallon\"}},\"id\":\"1294\",\"type\":\"Scatter\"},{\"attributes\":{\"coordinates\":null,\"group\":null,\"items\":[{\"id\":\"1311\"}],\"location\":[0,0]},\"id\":\"1310\",\"type\":\"Legend\"},{\"attributes\":{\"fill_color\":{\"field\":\"color\",\"transform\":{\"id\":\"1289\"}},\"hatch_color\":{\"field\":\"color\",\"transform\":{\"id\":\"1289\"}},\"line_color\":{\"field\":\"color\",\"transform\":{\"id\":\"1289\"}},\"size\":{\"value\":5.477225575051661},\"x\":{\"field\":\"Horsepower\"},\"y\":{\"field\":\"Miles_per_Gallon\"}},\"id\":\"1296\",\"type\":\"Scatter\"},{\"attributes\":{\"label\":{\"field\":\"color\"},\"renderers\":[{\"id\":\"1298\"}]},\"id\":\"1311\",\"type\":\"LegendItem\"},{\"attributes\":{},\"id\":\"1307\",\"type\":\"UnionRenderers\"},{\"attributes\":{},\"id\":\"1276\",\"type\":\"SaveTool\"},{\"attributes\":{\"coordinates\":null,\"data_source\":{\"id\":\"1290\"},\"glyph\":{\"id\":\"1293\"},\"group\":null,\"hover_glyph\":{\"id\":\"1296\"},\"muted_glyph\":{\"id\":\"1297\"},\"nonselection_glyph\":{\"id\":\"1294\"},\"selection_glyph\":{\"id\":\"1295\"},\"view\":{\"id\":\"1299\"}},\"id\":\"1298\",\"type\":\"GlyphRenderer\"},{\"attributes\":{\"end\":237.8857142857143,\"reset_end\":237.8857142857143,\"reset_start\":38.114285714285714,\"start\":38.114285714285714,\"tags\":[[[\"Horsepower\",\"Horsepower\",null]]]},\"id\":\"1256\",\"type\":\"Range1d\"},{\"attributes\":{\"fill_color\":{\"field\":\"color\",\"transform\":{\"id\":\"1289\"}},\"hatch_color\":{\"field\":\"color\",\"transform\":{\"id\":\"1289\"}},\"line_color\":{\"field\":\"color\",\"transform\":{\"id\":\"1289\"}},\"size\":{\"value\":5.477225575051661},\"x\":{\"field\":\"Horsepower\"},\"y\":{\"field\":\"Miles_per_Gallon\"}},\"id\":\"1293\",\"type\":\"Scatter\"},{\"attributes\":{},\"id\":\"1305\",\"type\":\"BasicTickFormatter\"},{\"attributes\":{\"fill_alpha\":{\"value\":0.2},\"fill_color\":{\"field\":\"color\",\"transform\":{\"id\":\"1289\"}},\"hatch_alpha\":{\"value\":0.2},\"hatch_color\":{\"field\":\"color\",\"transform\":{\"id\":\"1289\"}},\"line_alpha\":{\"value\":0.2},\"line_color\":{\"field\":\"color\",\"transform\":{\"id\":\"1289\"}},\"size\":{\"value\":5.477225575051661},\"x\":{\"field\":\"Horsepower\"},\"y\":{\"field\":\"Miles_per_Gallon\"}},\"id\":\"1297\",\"type\":\"Scatter\"},{\"attributes\":{\"tools\":[{\"id\":\"1258\"},{\"id\":\"1276\"},{\"id\":\"1277\"},{\"id\":\"1278\"},{\"id\":\"1279\"},{\"id\":\"1280\"}]},\"id\":\"1282\",\"type\":\"Toolbar\"},{\"attributes\":{\"below\":[{\"id\":\"1268\"}],\"center\":[{\"id\":\"1271\"},{\"id\":\"1275\"},{\"id\":\"1310\"}],\"height\":300,\"left\":[{\"id\":\"1272\"}],\"margin\":[5,5,5,5],\"min_border_bottom\":10,\"min_border_left\":10,\"min_border_right\":10,\"min_border_top\":10,\"renderers\":[{\"id\":\"1298\"}],\"right\":[{\"id\":\"1310\"}],\"sizing_mode\":\"fixed\",\"title\":{\"id\":\"1260\"},\"toolbar\":{\"id\":\"1282\"},\"width\":700,\"x_range\":{\"id\":\"1256\"},\"x_scale\":{\"id\":\"1264\"},\"y_range\":{\"id\":\"1257\"},\"y_scale\":{\"id\":\"1266\"}},\"id\":\"1259\",\"subtype\":\"Figure\",\"type\":\"Plot\"},{\"attributes\":{\"end\":50.36,\"reset_end\":50.36,\"reset_start\":5.24,\"start\":5.24,\"tags\":[[[\"Miles_per_Gallon\",\"Miles_per_Gallon\",null]]]},\"id\":\"1257\",\"type\":\"Range1d\"},{\"attributes\":{\"fill_color\":{\"field\":\"color\",\"transform\":{\"id\":\"1289\"}},\"hatch_color\":{\"field\":\"color\",\"transform\":{\"id\":\"1289\"}},\"line_color\":{\"field\":\"color\",\"transform\":{\"id\":\"1289\"}},\"size\":{\"value\":5.477225575051661},\"x\":{\"field\":\"Horsepower\"},\"y\":{\"field\":\"Miles_per_Gallon\"}},\"id\":\"1295\",\"type\":\"Scatter\"},{\"attributes\":{},\"id\":\"1277\",\"type\":\"PanTool\"},{\"attributes\":{},\"id\":\"1266\",\"type\":\"LinearScale\"},{\"attributes\":{\"factors\":[\"USA\",\"Europe\",\"Japan\"],\"palette\":[\"#1f77b3\",\"#ff7e0e\",\"#2ba02b\"]},\"id\":\"1289\",\"type\":\"CategoricalColorMapper\"},{\"attributes\":{\"margin\":[5,5,5,5],\"name\":\"HSpacer01290\",\"sizing_mode\":\"stretch_width\"},\"id\":\"1255\",\"type\":\"Spacer\"},{\"attributes\":{\"axis\":{\"id\":\"1268\"},\"coordinates\":null,\"grid_line_color\":null,\"group\":null,\"ticker\":null},\"id\":\"1271\",\"type\":\"Grid\"},{\"attributes\":{\"axis_label\":\"Horsepower\",\"coordinates\":null,\"formatter\":{\"id\":\"1305\"},\"group\":null,\"major_label_policy\":{\"id\":\"1306\"},\"ticker\":{\"id\":\"1269\"}},\"id\":\"1268\",\"type\":\"LinearAxis\"},{\"attributes\":{},\"id\":\"1269\",\"type\":\"BasicTicker\"},{\"attributes\":{\"children\":[{\"id\":\"1255\"},{\"id\":\"1259\"},{\"id\":\"1328\"}],\"margin\":[0,0,0,0],\"name\":\"Row01286\",\"tags\":[\"embedded\"]},\"id\":\"1254\",\"type\":\"Row\"},{\"attributes\":{},\"id\":\"1291\",\"type\":\"Selection\"},{\"attributes\":{},\"id\":\"1273\",\"type\":\"BasicTicker\"},{\"attributes\":{},\"id\":\"1302\",\"type\":\"BasicTickFormatter\"},{\"attributes\":{\"axis_label\":\"Miles_per_Gallon\",\"coordinates\":null,\"formatter\":{\"id\":\"1302\"},\"group\":null,\"major_label_policy\":{\"id\":\"1303\"},\"ticker\":{\"id\":\"1273\"}},\"id\":\"1272\",\"type\":\"LinearAxis\"},{\"attributes\":{\"source\":{\"id\":\"1290\"}},\"id\":\"1299\",\"type\":\"CDSView\"},{\"attributes\":{\"data\":{\"Horsepower\":{\"__ndarray__\":\"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\",\"dtype\":\"float64\",\"order\":\"little\",\"shape\":[406]},\"Miles_per_Gallon\":{\"__ndarray__\":\"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\",\"dtype\":\"float64\",\"order\":\"little\",\"shape\":[406]},\"Origin\":[\"USA\",\"USA\",\"USA\",\"USA\",\"USA\",\"USA\",\"USA\",\"USA\",\"USA\",\"USA\",\"Europe\",\"USA\",\"USA\",\"USA\",\"USA\",\"USA\",\"USA\",\"USA\",\"USA\",\"USA\",\"Japan\",\"USA\",\"USA\",\"USA\",\"Japan\",\"Europe\",\"Europe\",\"Europe\",\"Europe\",\"Europe\",\"USA\",\"USA\",\"USA\",\"USA\",\"USA\",\"Japan\",\"USA\",\"Japan\",\"USA\",\"Europe\",\"USA\",\"USA\",\"USA\",\"USA\",\"USA\",\"USA\",\"USA\",\"USA\",\"USA\",\"USA\",\"USA\",\"USA\",\"USA\",\"USA\",\"USA\",\"USA\",\"USA\",\"Europe\",\"Europe\",\"Europe\",\"Japan\",\"Japan\",\"Europe\",\"USA\",\"Japan\",\"USA\",\"Europe\",\"USA\",\"USA\",\"USA\",\"USA\",\"USA\",\"USA\",\"USA\",\"USA\",\"USA\",\"USA\",\"USA\",\"Japan\",\"USA\",\"USA\",\"USA\",\"USA\",\"Europe\",\"Europe\",\"Europe\",\"Europe\",\"USA\",\"Japan\",\"Japan\",\"USA\",\"Japan\",\"USA\",\"USA\",\"USA\",\"USA\",\"USA\",\"USA\",\"USA\",\"USA\",\"USA\",\"USA\",\"USA\",\"USA\",\"USA\",\"USA\",\"USA\",\"USA\",\"USA\",\"Europe\",\"USA\",\"USA\",\"USA\",\"USA\",\"USA\",\"Japan\",\"USA\",\"Japan\",\"Japan\",\"USA\",\"USA\",\"Europe\",\"USA\",\"USA\",\"Europe\",\"Europe\",\"Europe\",\"Europe\",\"USA\",\"Europe\",\"Japan\",\"USA\",\"USA\",\"USA\",\"USA\",\"USA\",\"Japan\",\"USA\",\"Japan\",\"USA\",\"USA\",\"USA\",\"USA\",\"USA\",\"USA\",\"USA\",\"USA\",\"USA\",\"Europe\",\"Europe\",\"Europe\",\"Japan\",\"Japan\",\"USA\",\"Europe\",\"Europe\",\"Japan\",\"Japan\",\"Europe\",\"USA\",\"USA\",\"USA\",\"USA\",\"USA\",\"USA\",\"USA\",\"USA\",\"USA\",\"USA\",\"USA\",\"USA\",\"USA\",\"USA\",\"USA\",\"Japan\",\"USA\",\"USA\",\"USA\",\"Japan\",\"Europe\",\"Japan\",\"USA\",\"Europe\",\"USA\",\"Europe\",\"Europe\",\"Europe\",\"Europe\",\"Japan\",\"Europe\",\"Europe\",\"USA\",\"USA\",\"Europe\",\"USA\",\"USA\",\"USA\",\"USA\",\"USA\",\"USA\",\"USA\",\"USA\",\"USA\",\"USA\",\"Europe\",\"Japan\",\"USA\",\"USA\",\"USA\",\"USA\",\"Europe\",\"Japan\",\"Japan\",\"USA\",\"Europe\",\"USA\",\"Europe\",\"Japan\",\"Europe\",\"USA\",\"USA\",\"USA\",\"USA\",\"Japan\",\"USA\",\"Europe\",\"USA\",\"Japan\",\"USA\",\"USA\",\"USA\",\"USA\",\"USA\",\"USA\",\"USA\",\"USA\",\"USA\",\"USA\",\"USA\",\"USA\",\"Europe\",\"USA\",\"Japan\",\"USA\",\"USA\",\"USA\",\"Japan\",\"Europe\",\"Japan\",\"Europe\",\"Japan\",\"Europe\",\"USA\",\"Japan\",\"Japan\",\"Japan\",\"USA\",\"USA\",\"USA\",\"USA\",\"USA\",\"USA\",\"USA\",\"USA\",\"USA\",\"USA\",\"USA\",\"USA\",\"USA\",\"USA\",\"USA\",\"USA\",\"USA\",\"USA\",\"Japan\",\"Japan\",\"USA\",\"Japan\",\"USA\",\"USA\",\"Japan\",\"Europe\",\"Europe\",\"Europe\",\"Europe\",\"Europe\",\"Japan\",\"USA\",\"USA\",\"USA\",\"USA\",\"USA\",\"USA\",\"USA\",\"USA\",\"USA\",\"USA\",\"USA\",\"USA\",\"USA\",\"Europe\",\"Japan\",\"USA\",\"USA\",\"Europe\",\"USA\",\"Europe\",\"USA\",\"USA\",\"USA\",\"Japan\",\"Europe\",\"USA\",\"USA\",\"USA\",\"USA\",\"Europe\",\"Japan\",\"USA\",\"Japan\",\"USA\",\"USA\",\"USA\",\"USA\",\"Europe\",\"Japan\",\"Japan\",\"Japan\",\"Japan\",\"Japan\",\"USA\",\"Japan\",\"Europe\",\"Europe\",\"Europe\",\"Europe\",\"Japan\",\"Europe\",\"Japan\",\"Europe\",\"Japan\",\"Japan\",\"Europe\",\"USA\",\"Japan\",\"USA\",\"USA\",\"USA\",\"USA\",\"USA\",\"Japan\",\"USA\",\"Japan\",\"Japan\",\"Japan\",\"Japan\",\"Japan\",\"USA\",\"USA\",\"USA\",\"Europe\",\"Europe\",\"Japan\",\"Japan\",\"Japan\",\"Japan\",\"Europe\",\"Europe\",\"Europe\",\"Japan\",\"Japan\",\"USA\",\"USA\",\"USA\",\"USA\",\"USA\",\"USA\",\"USA\",\"USA\",\"USA\",\"USA\",\"USA\",\"USA\",\"Europe\",\"Japan\",\"Japan\",\"USA\",\"USA\",\"Japan\",\"Japan\",\"Japan\",\"Japan\",\"Japan\",\"Japan\",\"USA\",\"USA\",\"USA\",\"USA\",\"Japan\",\"USA\",\"USA\",\"USA\",\"Europe\",\"USA\",\"USA\",\"USA\"],\"color\":[\"USA\",\"USA\",\"USA\",\"USA\",\"USA\",\"USA\",\"USA\",\"USA\",\"USA\",\"USA\",\"Europe\",\"USA\",\"USA\",\"USA\",\"USA\",\"USA\",\"USA\",\"USA\",\"USA\",\"USA\",\"Japan\",\"USA\",\"USA\",\"USA\",\"Japan\",\"Europe\",\"Europe\",\"Europe\",\"Europe\",\"Europe\",\"USA\",\"USA\",\"USA\",\"USA\",\"USA\",\"Japan\",\"USA\",\"Japan\",\"USA\",\"Europe\",\"USA\",\"USA\",\"USA\",\"USA\",\"USA\",\"USA\",\"USA\",\"USA\",\"USA\",\"USA\",\"USA\",\"USA\",\"USA\",\"USA\",\"USA\",\"USA\",\"USA\",\"Europe\",\"Europe\",\"Europe\",\"Japan\",\"Japan\",\"Europe\",\"USA\",\"Japan\",\"USA\",\"Europe\",\"USA\",\"USA\",\"USA\",\"USA\",\"USA\",\"USA\",\"USA\",\"USA\",\"USA\",\"USA\",\"USA\",\"Japan\",\"USA\",\"USA\",\"USA\",\"USA\",\"Europe\",\"Europe\",\"Europe\",\"Europe\",\"USA\",\"Japan\",\"Japan\",\"USA\",\"Japan\",\"USA\",\"USA\",\"USA\",\"USA\",\"USA\",\"USA\",\"USA\",\"USA\",\"USA\",\"USA\",\"USA\",\"USA\",\"USA\",\"USA\",\"USA\",\"USA\",\"USA\",\"Europe\",\"USA\",\"USA\",\"USA\",\"USA\",\"USA\",\"Japan\",\"USA\",\"Japan\",\"Japan\",\"USA\",\"USA\",\"Europe\",\"USA\",\"USA\",\"Europe\",\"Europe\",\"Europe\",\"Europe\",\"USA\",\"Europe\",\"Japan\",\"USA\",\"USA\",\"USA\",\"USA\",\"USA\",\"Japan\",\"USA\",\"Japan\",\"USA\",\"USA\",\"USA\",\"USA\",\"USA\",\"USA\",\"USA\",\"USA\",\"USA\",\"Europe\",\"Europe\",\"Europe\",\"Japan\",\"Japan\",\"USA\",\"Europe\",\"Europe\",\"Japan\",\"Japan\",\"Europe\",\"USA\",\"USA\",\"USA\",\"USA\",\"USA\",\"USA\",\"USA\",\"USA\",\"USA\",\"USA\",\"USA\",\"USA\",\"USA\",\"USA\",\"USA\",\"Japan\",\"USA\",\"USA\",\"USA\",\"Japan\",\"Europe\",\"Japan\",\"USA\",\"Europe\",\"USA\",\"Europe\",\"Europe\",\"Europe\",\"Europe\",\"Japan\",\"Europe\",\"Europe\",\"USA\",\"USA\",\"Europe\",\"USA\",\"USA\",\"USA\",\"USA\",\"USA\",\"USA\",\"USA\",\"USA\",\"USA\",\"USA\",\"Europe\",\"Japan\",\"USA\",\"USA\",\"USA\",\"USA\",\"Europe\",\"Japan\",\"Japan\",\"USA\",\"Europe\",\"USA\",\"Europe\",\"Japan\",\"Europe\",\"USA\",\"USA\",\"USA\",\"USA\",\"Japan\",\"USA\",\"Europe\",\"USA\",\"Japan\",\"USA\",\"USA\",\"USA\",\"USA\",\"USA\",\"USA\",\"USA\",\"USA\",\"USA\",\"USA\",\"USA\",\"USA\",\"Europe\",\"USA\",\"Japan\",\"USA\",\"USA\",\"USA\",\"Japan\",\"Europe\",\"Japan\",\"Europe\",\"Japan\",\"Europe\",\"USA\",\"Japan\",\"Japan\",\"Japan\",\"USA\",\"USA\",\"USA\",\"USA\",\"USA\",\"USA\",\"USA\",\"USA\",\"USA\",\"USA\",\"USA\",\"USA\",\"USA\",\"USA\",\"USA\",\"USA\",\"USA\",\"USA\",\"Japan\",\"Japan\",\"USA\",\"Japan\",\"USA\",\"USA\",\"Japan\",\"Europe\",\"Europe\",\"Europe\",\"Europe\",\"Europe\",\"Japan\",\"USA\",\"USA\",\"USA\",\"USA\",\"USA\",\"USA\",\"USA\",\"USA\",\"USA\",\"USA\",\"USA\",\"USA\",\"USA\",\"Europe\",\"Japan\",\"USA\",\"USA\",\"Europe\",\"USA\",\"Europe\",\"USA\",\"USA\",\"USA\",\"Japan\",\"Europe\",\"USA\",\"USA\",\"USA\",\"USA\",\"Europe\",\"Japan\",\"USA\",\"Japan\",\"USA\",\"USA\",\"USA\",\"USA\",\"Europe\",\"Japan\",\"Japan\",\"Japan\",\"Japan\",\"Japan\",\"USA\",\"Japan\",\"Europe\",\"Europe\",\"Europe\",\"Europe\",\"Japan\",\"Europe\",\"Japan\",\"Europe\",\"Japan\",\"Japan\",\"Europe\",\"USA\",\"Japan\",\"USA\",\"USA\",\"USA\",\"USA\",\"USA\",\"Japan\",\"USA\",\"Japan\",\"Japan\",\"Japan\",\"Japan\",\"Japan\",\"USA\",\"USA\",\"USA\",\"Europe\",\"Europe\",\"Japan\",\"Japan\",\"Japan\",\"Japan\",\"Europe\",\"Europe\",\"Europe\",\"Japan\",\"Japan\",\"USA\",\"USA\",\"USA\",\"USA\",\"USA\",\"USA\",\"USA\",\"USA\",\"USA\",\"USA\",\"USA\",\"USA\",\"Europe\",\"Japan\",\"Japan\",\"USA\",\"USA\",\"Japan\",\"Japan\",\"Japan\",\"Japan\",\"Japan\",\"Japan\",\"USA\",\"USA\",\"USA\",\"USA\",\"Japan\",\"USA\",\"USA\",\"USA\",\"Europe\",\"USA\",\"USA\",\"USA\"]},\"selected\":{\"id\":\"1291\"},\"selection_policy\":{\"id\":\"1307\"}},\"id\":\"1290\",\"type\":\"ColumnDataSource\"},{\"attributes\":{},\"id\":\"1278\",\"type\":\"WheelZoomTool\"},{\"attributes\":{\"axis\":{\"id\":\"1272\"},\"coordinates\":null,\"dimension\":1,\"grid_line_color\":null,\"group\":null,\"ticker\":null},\"id\":\"1275\",\"type\":\"Grid\"},{\"attributes\":{},\"id\":\"1303\",\"type\":\"AllLabels\"},{\"attributes\":{},\"id\":\"1264\",\"type\":\"LinearScale\"},{\"attributes\":{\"margin\":[5,5,5,5],\"name\":\"HSpacer01291\",\"sizing_mode\":\"stretch_width\"},\"id\":\"1328\",\"type\":\"Spacer\"}],\"root_ids\":[\"1254\"]},\"title\":\"Bokeh Application\",\"version\":\"2.4.3\"}};\n",
       "    var render_items = [{\"docid\":\"6db19493-bef4-4ef3-b231-d94f80ec75a5\",\"root_ids\":[\"1254\"],\"roots\":{\"1254\":\"42e7c8dc-3809-44fa-b584-d6466e4aff42\"}}];\n",
       "    root.Bokeh.embed.embed_items_notebook(docs_json, render_items);\n",
       "  }\n",
       "  if (root.Bokeh !== undefined && root.Bokeh.Panel !== undefined) {\n",
       "    embed_document(root);\n",
       "  } else {\n",
       "    var attempts = 0;\n",
       "    var timer = setInterval(function(root) {\n",
       "      if (root.Bokeh !== undefined && root.Bokeh.Panel !== undefined) {\n",
       "        clearInterval(timer);\n",
       "        embed_document(root);\n",
       "      } else if (document.readyState == \"complete\") {\n",
       "        attempts++;\n",
       "        if (attempts > 200) {\n",
       "          clearInterval(timer);\n",
       "          console.log(\"Bokeh: ERROR: Unable to run BokehJS code because BokehJS library is missing\");\n",
       "        }\n",
       "      }\n",
       "    }, 25, root)\n",
       "  }\n",
       "})(window);</script>"
      ],
      "text/plain": [
       ":Scatter   [Horsepower]   (Miles_per_Gallon,Origin)"
      ]
     },
     "execution_count": 17,
     "metadata": {
      "application/vnd.holoviews_exec.v0+json": {
       "id": "1254"
      }
     },
     "output_type": "execute_result"
    }
   ],
   "source": [
    "#cars.hvplot.scatter(x='Horsepower', y='Miles_per_Gallon', color='Origin')\n",
    "plot = cars.hvplot.scatter(x='Horsepower', y='Miles_per_Gallon', color='Origin')\n",
    "plot\n",
    "#mostra o gráfico"
   ]
  },
  {
   "cell_type": "markdown",
   "id": "dd9f716e",
   "metadata": {},
   "source": [
    "### Atividade extra\n",
    "\n",
    "Utilizando este notebook como ponto de partida, explorar outros conjuntos de dados do **vaga_datasets**, gerar outras visualizações do **HoloViz**, consultar referências e demais recursos na documentação (links abaixo)"
   ]
  },
  {
   "cell_type": "markdown",
   "id": "9a6a59d7",
   "metadata": {},
   "source": [
    "### Referências\n",
    "\n",
    "- https://holoviz.org/"
   ]
  }
 ],
 "metadata": {
  "kernelspec": {
   "display_name": "Python 3 (ipykernel)",
   "language": "python",
   "name": "python3"
  },
  "language_info": {
   "codemirror_mode": {
    "name": "ipython",
    "version": 3
   },
   "file_extension": ".py",
   "mimetype": "text/x-python",
   "name": "python",
   "nbconvert_exporter": "python",
   "pygments_lexer": "ipython3",
   "version": "3.9.13"
  },
  "toc": {
   "base_numbering": 1,
   "nav_menu": {},
   "number_sections": true,
   "sideBar": true,
   "skip_h1_title": false,
   "title_cell": "Table of Contents",
   "title_sidebar": "Contents",
   "toc_cell": false,
   "toc_position": {},
   "toc_section_display": true,
   "toc_window_display": false
  }
 },
 "nbformat": 4,
 "nbformat_minor": 5
}
