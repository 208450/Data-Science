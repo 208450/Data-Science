{
 "cells": [
  {
   "cell_type": "markdown",
   "id": "cabed344",
   "metadata": {},
   "source": [
    "![Insper](https://github.com/danielscarvalho/Insper-DS-Dicas/blob/master/Insper-Logo.png?raw=true)\n",
    "\n",
    "# Insper Pós-Graduação\n",
    "## Programa Avançado em Data Science e Decisão [»](https://www.insper.edu.br/pos-graduacao/programas-avancados/data-science-e-decisao/)"
   ]
  },
  {
   "cell_type": "markdown",
   "id": "tough-respect",
   "metadata": {},
   "source": [
    "# Aula 05 - Visualização de dados com Holoviz\n",
    "\n",
    "\n",
    "O HoloViz é uma ferramentas de alto nível para simplificar a visualização em Python.\n",
    "O HoloViz é um esforço coordenado para tornar a visualização de dados baseada em navegador em Python mais fácil de usar, mais fácil de aprender e mais poderosa. [>>](https://holoviz.org/) \n",
    "\n",
    "Instalação:"
   ]
  },
  {
   "cell_type": "code",
   "execution_count": null,
   "id": "e19802a1",
   "metadata": {
    "scrolled": true
   },
   "outputs": [],
   "source": [
    "!man pip3"
   ]
  },
  {
   "cell_type": "markdown",
   "id": "cbc7e817",
   "metadata": {},
   "source": [
    "No ambiente Windows talvez seja necessários reiniciar o kernel..."
   ]
  },
  {
   "cell_type": "code",
   "execution_count": null,
   "id": "8bdc3625",
   "metadata": {},
   "outputs": [],
   "source": [
    "#TESTAR COM --user\n",
    "ERROR: panel 0.12.1 has requirement bokeh<2.4.0,>=2.3.0, but you'll have bokeh 2.0.2 which is incompatible.\n",
    "ERROR: datashader 0.11.1 has requirement pyct[cmd]==0.4.6, but you'll have pyct 0.4.8 which is incompatible.\n",
    "ERROR: Could not install packages due to an EnvironmentError: [WinError 5] Access is denied: 'c:\\\\users\\\\carel\\\\anaconda3\\\\lib\\\\site-packages\\\\~umpy\\\\core\\\\_multiarray_tests.cp37-win_amd64.pyd'\n",
    "Consider using the `--user` option or check the permissions."
   ]
  },
  {
   "cell_type": "code",
   "execution_count": null,
   "id": "broad-football",
   "metadata": {},
   "outputs": [],
   "source": [
    "!pip install -U holoviz"
   ]
  },
  {
   "cell_type": "code",
   "execution_count": null,
   "id": "3f3d9efa",
   "metadata": {},
   "outputs": [],
   "source": [
    "!pip install hvplot"
   ]
  },
  {
   "cell_type": "markdown",
   "id": "lesser-zealand",
   "metadata": {},
   "source": [
    "# importações e dataset utilizado\n"
   ]
  },
  {
   "cell_type": "code",
   "execution_count": null,
   "id": "genuine-increase",
   "metadata": {},
   "outputs": [],
   "source": [
    "import altair as alt\n",
    "from vega_datasets import data\n",
    "\n",
    "import hvplot.pandas \n",
    "import holoviews as hv\n",
    "\n",
    "cars = data.cars()"
   ]
  },
  {
   "cell_type": "code",
   "execution_count": null,
   "id": "informational-yeast",
   "metadata": {
    "scrolled": true
   },
   "outputs": [],
   "source": [
    "cars.head()"
   ]
  },
  {
   "cell_type": "code",
   "execution_count": null,
   "id": "d1887245",
   "metadata": {},
   "outputs": [],
   "source": [
    "cars.shape"
   ]
  },
  {
   "cell_type": "code",
   "execution_count": null,
   "id": "405c8ad7",
   "metadata": {},
   "outputs": [],
   "source": [
    "type(cars)"
   ]
  },
  {
   "cell_type": "markdown",
   "id": "alpine-baptist",
   "metadata": {},
   "source": [
    "# Gráfico de Dispersão"
   ]
  },
  {
   "cell_type": "code",
   "execution_count": null,
   "id": "infrared-bottom",
   "metadata": {},
   "outputs": [],
   "source": [
    "cars.hvplot.scatter(x='Horsepower', y='Miles_per_Gallon', color='Origin')"
   ]
  },
  {
   "cell_type": "markdown",
   "id": "dd9f716e",
   "metadata": {},
   "source": [
    "### Atividade extra\n",
    "\n",
    "Utilizando este notebook como ponto de partida, explorar outros conjuntos de dados do **vaga_datasets**, gerar outras visualizações do **HoloViz**, consultar referências e demais recursos na documentação (links abaixo)"
   ]
  },
  {
   "cell_type": "markdown",
   "id": "9a6a59d7",
   "metadata": {},
   "source": [
    "### Referências\n",
    "\n",
    "- https://holoviz.org/"
   ]
  }
 ],
 "metadata": {
  "kernelspec": {
   "display_name": "Python 3 (ipykernel)",
   "language": "python",
   "name": "python3"
  },
  "language_info": {
   "codemirror_mode": {
    "name": "ipython",
    "version": 3
   },
   "file_extension": ".py",
   "mimetype": "text/x-python",
   "name": "python",
   "nbconvert_exporter": "python",
   "pygments_lexer": "ipython3",
   "version": "3.9.12"
  },
  "toc": {
   "base_numbering": 1,
   "nav_menu": {},
   "number_sections": true,
   "sideBar": true,
   "skip_h1_title": false,
   "title_cell": "Table of Contents",
   "title_sidebar": "Contents",
   "toc_cell": false,
   "toc_position": {},
   "toc_section_display": true,
   "toc_window_display": false
  }
 },
 "nbformat": 4,
 "nbformat_minor": 5
}
